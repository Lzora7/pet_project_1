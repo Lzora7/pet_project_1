{
 "cells": [
  {
   "cell_type": "code",
   "execution_count": 322,
   "metadata": {},
   "outputs": [],
   "source": [
    "import pandas as pd \n",
    "import numpy as np\n",
    "import scipy\n",
    "from scipy import stats\n",
    "\n",
    "import seaborn as sns\n",
    "import matplotlib.pyplot as plt\n",
    "import pylab\n",
    "\n",
    "import pandahouse as ph\n",
    "\n",
    "import io\n",
    "import requests\n",
    "%matplotlib inline"
   ]
  },
  {
   "cell_type": "markdown",
   "metadata": {},
   "source": [
    "# A/B-тестирование"
   ]
  },
  {
   "cell_type": "markdown",
   "metadata": {},
   "source": [
    "## Условие"
   ]
  },
  {
   "cell_type": "markdown",
   "metadata": {},
   "source": [
    "Одной из основных задач аналитика в нашей команде является корректное проведение экспериментов. Для этого мы применяем метод A/B–тестирования. В ходе тестирования одной гипотезы целевой группе была предложена новая механика оплаты услуг на сайте, у контрольной группы оставалась базовая механика. В качестве задания Вам необходимо проанализировать итоги эксперимента и сделать вывод, стоит ли запускать новую механику оплаты на всех пользователей."
   ]
  },
  {
   "cell_type": "markdown",
   "metadata": {},
   "source": [
    "## Входные данные"
   ]
  },
  {
   "cell_type": "markdown",
   "metadata": {},
   "source": [
    "В качестве входных данных Вы имеете 4 csv-файла:\n",
    "\n",
    "groups.csv - файл с информацией о принадлежности пользователя к контрольной или экспериментальной группе (А – контроль, B – целевая группа) \\\n",
    "groups_add.csv - дополнительный файл с пользователями, который вам прислали спустя 2 дня после передачи данных \\\n",
    "active_studs.csv - файл с информацией о пользователях, которые зашли на платформу в дни проведения эксперимента \\\n",
    "checks.csv - файл с информацией об оплатах пользователей в дни проведения эксперимента. "
   ]
  },
  {
   "cell_type": "markdown",
   "metadata": {},
   "source": [
    "## Вопросы"
   ]
  },
  {
   "cell_type": "markdown",
   "metadata": {},
   "source": [
    "Предлагаем Вам ответить на следующие вопросы:\n",
    "\n",
    "- На какие метрики Вы смотрите в ходе анализа и почему? \n",
    "- Имеются ли различия в показателях и с чем они могут быть связаны? \n",
    "- Являются ли эти различия статистически значимыми? \n",
    "- Стоит ли запускать новую механику на всех пользователей? \n",
    "\n",
    "Данный список вопросов не является обязательным, и Вы можете при своём ответе опираться на собственный план."
   ]
  },
  {
   "cell_type": "markdown",
   "metadata": {},
   "source": [
    "## Реализация"
   ]
  },
  {
   "cell_type": "markdown",
   "metadata": {},
   "source": [
    "### Импорт наборов данных"
   ]
  },
  {
   "cell_type": "code",
   "execution_count": 2,
   "metadata": {},
   "outputs": [],
   "source": [
    "groups = pd.read_csv('/Users/vitaly/Documents/!KC_Фин_Проект/Проект_2_groups.csv', sep = ';')"
   ]
  },
  {
   "cell_type": "code",
   "execution_count": 3,
   "metadata": {},
   "outputs": [
    {
     "data": {
      "text/html": [
       "<div>\n",
       "<style scoped>\n",
       "    .dataframe tbody tr th:only-of-type {\n",
       "        vertical-align: middle;\n",
       "    }\n",
       "\n",
       "    .dataframe tbody tr th {\n",
       "        vertical-align: top;\n",
       "    }\n",
       "\n",
       "    .dataframe thead th {\n",
       "        text-align: right;\n",
       "    }\n",
       "</style>\n",
       "<table border=\"1\" class=\"dataframe\">\n",
       "  <thead>\n",
       "    <tr style=\"text-align: right;\">\n",
       "      <th></th>\n",
       "      <th>id</th>\n",
       "      <th>grp</th>\n",
       "    </tr>\n",
       "  </thead>\n",
       "  <tbody>\n",
       "    <tr>\n",
       "      <th>0</th>\n",
       "      <td>1489</td>\n",
       "      <td>B</td>\n",
       "    </tr>\n",
       "    <tr>\n",
       "      <th>1</th>\n",
       "      <td>1627</td>\n",
       "      <td>A</td>\n",
       "    </tr>\n",
       "    <tr>\n",
       "      <th>2</th>\n",
       "      <td>1768</td>\n",
       "      <td>B</td>\n",
       "    </tr>\n",
       "    <tr>\n",
       "      <th>3</th>\n",
       "      <td>1783</td>\n",
       "      <td>B</td>\n",
       "    </tr>\n",
       "    <tr>\n",
       "      <th>4</th>\n",
       "      <td>1794</td>\n",
       "      <td>A</td>\n",
       "    </tr>\n",
       "  </tbody>\n",
       "</table>\n",
       "</div>"
      ],
      "text/plain": [
       "     id grp\n",
       "0  1489   B\n",
       "1  1627   A\n",
       "2  1768   B\n",
       "3  1783   B\n",
       "4  1794   A"
      ]
     },
     "execution_count": 3,
     "metadata": {},
     "output_type": "execute_result"
    }
   ],
   "source": [
    "groups.head()"
   ]
  },
  {
   "cell_type": "code",
   "execution_count": 4,
   "metadata": {},
   "outputs": [
    {
     "data": {
      "text/plain": [
       "id      int64\n",
       "grp    object\n",
       "dtype: object"
      ]
     },
     "execution_count": 4,
     "metadata": {},
     "output_type": "execute_result"
    }
   ],
   "source": [
    "groups.dtypes"
   ]
  },
  {
   "cell_type": "code",
   "execution_count": 5,
   "metadata": {},
   "outputs": [
    {
     "data": {
      "text/plain": [
       "(74484, 2)"
      ]
     },
     "execution_count": 5,
     "metadata": {},
     "output_type": "execute_result"
    }
   ],
   "source": [
    "groups.shape"
   ]
  },
  {
   "cell_type": "code",
   "execution_count": 10,
   "metadata": {},
   "outputs": [],
   "source": [
    "active_studs = pd.read_csv('/Users/vitaly/Documents/!KC_Фин_Проект/Проект_2_active_studs.csv')"
   ]
  },
  {
   "cell_type": "code",
   "execution_count": 11,
   "metadata": {},
   "outputs": [
    {
     "data": {
      "text/html": [
       "<div>\n",
       "<style scoped>\n",
       "    .dataframe tbody tr th:only-of-type {\n",
       "        vertical-align: middle;\n",
       "    }\n",
       "\n",
       "    .dataframe tbody tr th {\n",
       "        vertical-align: top;\n",
       "    }\n",
       "\n",
       "    .dataframe thead th {\n",
       "        text-align: right;\n",
       "    }\n",
       "</style>\n",
       "<table border=\"1\" class=\"dataframe\">\n",
       "  <thead>\n",
       "    <tr style=\"text-align: right;\">\n",
       "      <th></th>\n",
       "      <th>student_id</th>\n",
       "    </tr>\n",
       "  </thead>\n",
       "  <tbody>\n",
       "    <tr>\n",
       "      <th>0</th>\n",
       "      <td>581585</td>\n",
       "    </tr>\n",
       "    <tr>\n",
       "      <th>1</th>\n",
       "      <td>5723133</td>\n",
       "    </tr>\n",
       "    <tr>\n",
       "      <th>2</th>\n",
       "      <td>3276743</td>\n",
       "    </tr>\n",
       "    <tr>\n",
       "      <th>3</th>\n",
       "      <td>4238589</td>\n",
       "    </tr>\n",
       "    <tr>\n",
       "      <th>4</th>\n",
       "      <td>4475369</td>\n",
       "    </tr>\n",
       "  </tbody>\n",
       "</table>\n",
       "</div>"
      ],
      "text/plain": [
       "   student_id\n",
       "0      581585\n",
       "1     5723133\n",
       "2     3276743\n",
       "3     4238589\n",
       "4     4475369"
      ]
     },
     "execution_count": 11,
     "metadata": {},
     "output_type": "execute_result"
    }
   ],
   "source": [
    "active_studs.head()"
   ]
  },
  {
   "cell_type": "code",
   "execution_count": 12,
   "metadata": {},
   "outputs": [
    {
     "data": {
      "text/plain": [
       "student_id    int64\n",
       "dtype: object"
      ]
     },
     "execution_count": 12,
     "metadata": {},
     "output_type": "execute_result"
    }
   ],
   "source": [
    "active_studs.dtypes"
   ]
  },
  {
   "cell_type": "code",
   "execution_count": 13,
   "metadata": {},
   "outputs": [
    {
     "data": {
      "text/plain": [
       "(8341, 1)"
      ]
     },
     "execution_count": 13,
     "metadata": {},
     "output_type": "execute_result"
    }
   ],
   "source": [
    "active_studs.shape"
   ]
  },
  {
   "cell_type": "code",
   "execution_count": 14,
   "metadata": {},
   "outputs": [],
   "source": [
    "checks = pd.read_csv('/Users/vitaly/Documents/!KC_Фин_Проект/Проект_2_checks.csv', sep = ';')"
   ]
  },
  {
   "cell_type": "code",
   "execution_count": 15,
   "metadata": {},
   "outputs": [
    {
     "data": {
      "text/html": [
       "<div>\n",
       "<style scoped>\n",
       "    .dataframe tbody tr th:only-of-type {\n",
       "        vertical-align: middle;\n",
       "    }\n",
       "\n",
       "    .dataframe tbody tr th {\n",
       "        vertical-align: top;\n",
       "    }\n",
       "\n",
       "    .dataframe thead th {\n",
       "        text-align: right;\n",
       "    }\n",
       "</style>\n",
       "<table border=\"1\" class=\"dataframe\">\n",
       "  <thead>\n",
       "    <tr style=\"text-align: right;\">\n",
       "      <th></th>\n",
       "      <th>student_id</th>\n",
       "      <th>rev</th>\n",
       "    </tr>\n",
       "  </thead>\n",
       "  <tbody>\n",
       "    <tr>\n",
       "      <th>0</th>\n",
       "      <td>1627</td>\n",
       "      <td>990.0</td>\n",
       "    </tr>\n",
       "    <tr>\n",
       "      <th>1</th>\n",
       "      <td>3185</td>\n",
       "      <td>690.0</td>\n",
       "    </tr>\n",
       "    <tr>\n",
       "      <th>2</th>\n",
       "      <td>25973</td>\n",
       "      <td>690.0</td>\n",
       "    </tr>\n",
       "    <tr>\n",
       "      <th>3</th>\n",
       "      <td>26280</td>\n",
       "      <td>690.0</td>\n",
       "    </tr>\n",
       "    <tr>\n",
       "      <th>4</th>\n",
       "      <td>100300</td>\n",
       "      <td>990.0</td>\n",
       "    </tr>\n",
       "  </tbody>\n",
       "</table>\n",
       "</div>"
      ],
      "text/plain": [
       "   student_id    rev\n",
       "0        1627  990.0\n",
       "1        3185  690.0\n",
       "2       25973  690.0\n",
       "3       26280  690.0\n",
       "4      100300  990.0"
      ]
     },
     "execution_count": 15,
     "metadata": {},
     "output_type": "execute_result"
    }
   ],
   "source": [
    "checks.head()"
   ]
  },
  {
   "cell_type": "code",
   "execution_count": 16,
   "metadata": {},
   "outputs": [
    {
     "data": {
      "text/plain": [
       "student_id      int64\n",
       "rev           float64\n",
       "dtype: object"
      ]
     },
     "execution_count": 16,
     "metadata": {},
     "output_type": "execute_result"
    }
   ],
   "source": [
    "checks.dtypes"
   ]
  },
  {
   "cell_type": "markdown",
   "metadata": {},
   "source": [
    "_Проверим, почему столбцу rev присвоен тип float64_"
   ]
  },
  {
   "cell_type": "code",
   "execution_count": 17,
   "metadata": {},
   "outputs": [
    {
     "data": {
      "text/plain": [
       "array([ 990.    ,  690.    ,  630.    ,  580.    ,  290.    , 1140.    ,\n",
       "       1900.0001,  199.    ,  398.    , 1830.    , 1900.    , 3260.    ,\n",
       "       2910.    , 2820.    , 2099.    , 3660.    , 1530.    , 2900.    ,\n",
       "       1980.    , 1160.    ,  870.    ,  840.    , 2890.    , 1180.    ,\n",
       "        880.    , 3040.    ,  796.    , 4650.    , 2190.    , 1729.    ,\n",
       "       1388.    ,  590.    , 2220.    ,  489.    , 1050.    , 1968.    ,\n",
       "       1339.    ,  597.    , 1039.    ])"
      ]
     },
     "execution_count": 17,
     "metadata": {},
     "output_type": "execute_result"
    }
   ],
   "source": [
    "checks.rev.unique()"
   ]
  },
  {
   "cell_type": "markdown",
   "metadata": {},
   "source": [
    "_Колонке rev (Revenue) соответствует тип float64, когда на деле ей достаточно int64 - заменим_"
   ]
  },
  {
   "cell_type": "code",
   "execution_count": 18,
   "metadata": {},
   "outputs": [],
   "source": [
    "checks.rev = checks.rev.astype('int')"
   ]
  },
  {
   "cell_type": "code",
   "execution_count": 19,
   "metadata": {},
   "outputs": [
    {
     "data": {
      "text/html": [
       "<div>\n",
       "<style scoped>\n",
       "    .dataframe tbody tr th:only-of-type {\n",
       "        vertical-align: middle;\n",
       "    }\n",
       "\n",
       "    .dataframe tbody tr th {\n",
       "        vertical-align: top;\n",
       "    }\n",
       "\n",
       "    .dataframe thead th {\n",
       "        text-align: right;\n",
       "    }\n",
       "</style>\n",
       "<table border=\"1\" class=\"dataframe\">\n",
       "  <thead>\n",
       "    <tr style=\"text-align: right;\">\n",
       "      <th></th>\n",
       "      <th>student_id</th>\n",
       "      <th>rev</th>\n",
       "    </tr>\n",
       "  </thead>\n",
       "  <tbody>\n",
       "    <tr>\n",
       "      <th>0</th>\n",
       "      <td>1627</td>\n",
       "      <td>990</td>\n",
       "    </tr>\n",
       "    <tr>\n",
       "      <th>1</th>\n",
       "      <td>3185</td>\n",
       "      <td>690</td>\n",
       "    </tr>\n",
       "    <tr>\n",
       "      <th>2</th>\n",
       "      <td>25973</td>\n",
       "      <td>690</td>\n",
       "    </tr>\n",
       "    <tr>\n",
       "      <th>3</th>\n",
       "      <td>26280</td>\n",
       "      <td>690</td>\n",
       "    </tr>\n",
       "    <tr>\n",
       "      <th>4</th>\n",
       "      <td>100300</td>\n",
       "      <td>990</td>\n",
       "    </tr>\n",
       "  </tbody>\n",
       "</table>\n",
       "</div>"
      ],
      "text/plain": [
       "   student_id  rev\n",
       "0        1627  990\n",
       "1        3185  690\n",
       "2       25973  690\n",
       "3       26280  690\n",
       "4      100300  990"
      ]
     },
     "execution_count": 19,
     "metadata": {},
     "output_type": "execute_result"
    }
   ],
   "source": [
    "checks.head()"
   ]
  },
  {
   "cell_type": "markdown",
   "metadata": {},
   "source": [
    "### EDA"
   ]
  },
  {
   "cell_type": "markdown",
   "metadata": {},
   "source": [
    "_Оценим размеры контрольной и тестовой групп:_"
   ]
  },
  {
   "cell_type": "markdown",
   "metadata": {},
   "source": [
    "1. Проверим дубликаты в таблице groups"
   ]
  },
  {
   "cell_type": "code",
   "execution_count": 20,
   "metadata": {},
   "outputs": [
    {
     "name": "stdout",
     "output_type": "stream",
     "text": [
      "В таблице groups 0 дубликатов\n"
     ]
    }
   ],
   "source": [
    "print('В таблице groups {} дубликатов'.format(groups[groups.duplicated()].shape[0]))"
   ]
  },
  {
   "cell_type": "markdown",
   "metadata": {},
   "source": [
    "2. Оценим размеры контрольной и тестовой групп"
   ]
  },
  {
   "cell_type": "code",
   "execution_count": 167,
   "metadata": {},
   "outputs": [
    {
     "data": {
      "text/html": [
       "<div>\n",
       "<style scoped>\n",
       "    .dataframe tbody tr th:only-of-type {\n",
       "        vertical-align: middle;\n",
       "    }\n",
       "\n",
       "    .dataframe tbody tr th {\n",
       "        vertical-align: top;\n",
       "    }\n",
       "\n",
       "    .dataframe thead th {\n",
       "        text-align: right;\n",
       "    }\n",
       "</style>\n",
       "<table border=\"1\" class=\"dataframe\">\n",
       "  <thead>\n",
       "    <tr style=\"text-align: right;\">\n",
       "      <th></th>\n",
       "      <th>count_of_students</th>\n",
       "    </tr>\n",
       "    <tr>\n",
       "      <th>grp</th>\n",
       "      <th></th>\n",
       "    </tr>\n",
       "  </thead>\n",
       "  <tbody>\n",
       "    <tr>\n",
       "      <th>A</th>\n",
       "      <td>14671</td>\n",
       "    </tr>\n",
       "    <tr>\n",
       "      <th>B</th>\n",
       "      <td>59813</td>\n",
       "    </tr>\n",
       "  </tbody>\n",
       "</table>\n",
       "</div>"
      ],
      "text/plain": [
       "     count_of_students\n",
       "grp                   \n",
       "A                14671\n",
       "B                59813"
      ]
     },
     "execution_count": 167,
     "metadata": {},
     "output_type": "execute_result"
    }
   ],
   "source": [
    "groups.groupby('grp').agg({'id': 'count'}) \\\n",
    "                            .rename(columns = {'id': 'count_of_students'})"
   ]
  },
  {
   "cell_type": "code",
   "execution_count": 169,
   "metadata": {},
   "outputs": [
    {
     "data": {
      "text/html": [
       "<div>\n",
       "<style scoped>\n",
       "    .dataframe tbody tr th:only-of-type {\n",
       "        vertical-align: middle;\n",
       "    }\n",
       "\n",
       "    .dataframe tbody tr th {\n",
       "        vertical-align: top;\n",
       "    }\n",
       "\n",
       "    .dataframe thead th {\n",
       "        text-align: right;\n",
       "    }\n",
       "</style>\n",
       "<table border=\"1\" class=\"dataframe\">\n",
       "  <thead>\n",
       "    <tr style=\"text-align: right;\">\n",
       "      <th></th>\n",
       "      <th>percent_of_students</th>\n",
       "    </tr>\n",
       "    <tr>\n",
       "      <th>grp</th>\n",
       "      <th></th>\n",
       "    </tr>\n",
       "  </thead>\n",
       "  <tbody>\n",
       "    <tr>\n",
       "      <th>A</th>\n",
       "      <td>19.7</td>\n",
       "    </tr>\n",
       "    <tr>\n",
       "      <th>B</th>\n",
       "      <td>80.3</td>\n",
       "    </tr>\n",
       "  </tbody>\n",
       "</table>\n",
       "</div>"
      ],
      "text/plain": [
       "     percent_of_students\n",
       "grp                     \n",
       "A                   19.7\n",
       "B                   80.3"
      ]
     },
     "execution_count": 169,
     "metadata": {},
     "output_type": "execute_result"
    }
   ],
   "source": [
    "groups.groupby('grp').agg({'id': 'count'}) \\\n",
    "                            .rename(columns = {'id': 'percent_of_students'}) \\\n",
    "                            .apply(lambda x: x/groups.shape[0]) \\\n",
    "                            .mul(100) \\\n",
    "                            .round(1)         "
   ]
  },
  {
   "cell_type": "markdown",
   "metadata": {},
   "source": [
    "- _Контрольная группа составляет 19,7% (14671 пользователь)_ \n",
    "- _Тестовая - 80,3% (59813 польз.)_"
   ]
  },
  {
   "cell_type": "markdown",
   "metadata": {},
   "source": [
    "  \n",
    " "
   ]
  },
  {
   "cell_type": "markdown",
   "metadata": {},
   "source": [
    "_Проверим наличие дубликатов в таблице active_studs_"
   ]
  },
  {
   "cell_type": "code",
   "execution_count": 28,
   "metadata": {},
   "outputs": [
    {
     "name": "stdout",
     "output_type": "stream",
     "text": [
      "В таблице active_studs 0 дубликатов\n"
     ]
    }
   ],
   "source": [
    "print('В таблице active_studs {} дубликатов' \\\n",
    "      .format(active_studs[active_studs.duplicated()].shape[0]))"
   ]
  },
  {
   "cell_type": "markdown",
   "metadata": {},
   "source": [
    "  "
   ]
  },
  {
   "cell_type": "markdown",
   "metadata": {},
   "source": [
    "_Проверим наличие дубликатов в таблице checks по столбцу student_id_"
   ]
  },
  {
   "cell_type": "code",
   "execution_count": 29,
   "metadata": {},
   "outputs": [
    {
     "name": "stdout",
     "output_type": "stream",
     "text": [
      "В таблице checks 0 дубликатов\n"
     ]
    }
   ],
   "source": [
    "print('В таблице checks {} дубликатов' \\\n",
    "      .format(checks[checks.duplicated(subset = 'student_id')].shape[0]))"
   ]
  },
  {
   "cell_type": "markdown",
   "metadata": {},
   "source": [
    "### Выбор метрик для оценивания эксперимента"
   ]
  },
  {
   "cell_type": "markdown",
   "metadata": {},
   "source": [
    "_Предложенные наборы данных располагают информацией об активных пользователях и прибыли (Revenue) с каждого из них, поэтому можно использовать следующий набор метрик:_\n",
    "\n",
    "1) CR в покупку \\\n",
    "2) ARPPU \\\n",
    "3) ARPU \n",
    "\n",
    "_Конверсия в покупку (CR) интересна в первую очередь, так как тестируется новая механика оплаты услуг на сайте, успех которой лучше всего отобразим количеством покупателей._ \\\n",
    "_Средний доход с покупателя (ARPPU) и Средний доход с пользователя (ARPU) отразят то, как новая механика поощряет добавление товаров в корзину и удобство новой механики оплаты, её \"привлекательность\"._\n",
    "\n"
   ]
  },
  {
   "cell_type": "markdown",
   "metadata": {},
   "source": [
    "### Рассчёт метрик"
   ]
  },
  {
   "cell_type": "markdown",
   "metadata": {},
   "source": [
    "1) Рассчитаем CR в покупку для каждой группы"
   ]
  },
  {
   "cell_type": "markdown",
   "metadata": {},
   "source": [
    "_Поскольку в таблице checks отсутствуют дубликаты, можно определить количество покупателей как число строк в этой таблице. \\\n",
    "По той же причине, но для таблицы active_studs, воспользуемся количеством строк в ней для определения количества пользователей._\n"
   ]
  },
  {
   "cell_type": "markdown",
   "metadata": {},
   "source": [
    "1.1 Объединим таблицы checks и groups для возможности фильтрации покупателей по группе "
   ]
  },
  {
   "cell_type": "code",
   "execution_count": 170,
   "metadata": {},
   "outputs": [],
   "source": [
    "checks_merged = checks.merge(groups.rename(columns = {'id': 'student_id'}), \n",
    "                             on = 'student_id')"
   ]
  },
  {
   "cell_type": "code",
   "execution_count": 171,
   "metadata": {},
   "outputs": [
    {
     "data": {
      "text/html": [
       "<div>\n",
       "<style scoped>\n",
       "    .dataframe tbody tr th:only-of-type {\n",
       "        vertical-align: middle;\n",
       "    }\n",
       "\n",
       "    .dataframe tbody tr th {\n",
       "        vertical-align: top;\n",
       "    }\n",
       "\n",
       "    .dataframe thead th {\n",
       "        text-align: right;\n",
       "    }\n",
       "</style>\n",
       "<table border=\"1\" class=\"dataframe\">\n",
       "  <thead>\n",
       "    <tr style=\"text-align: right;\">\n",
       "      <th></th>\n",
       "      <th>student_id</th>\n",
       "      <th>rev</th>\n",
       "      <th>grp</th>\n",
       "    </tr>\n",
       "  </thead>\n",
       "  <tbody>\n",
       "    <tr>\n",
       "      <th>0</th>\n",
       "      <td>1627</td>\n",
       "      <td>990</td>\n",
       "      <td>A</td>\n",
       "    </tr>\n",
       "    <tr>\n",
       "      <th>1</th>\n",
       "      <td>3185</td>\n",
       "      <td>690</td>\n",
       "      <td>B</td>\n",
       "    </tr>\n",
       "    <tr>\n",
       "      <th>2</th>\n",
       "      <td>25973</td>\n",
       "      <td>690</td>\n",
       "      <td>B</td>\n",
       "    </tr>\n",
       "    <tr>\n",
       "      <th>3</th>\n",
       "      <td>26280</td>\n",
       "      <td>690</td>\n",
       "      <td>B</td>\n",
       "    </tr>\n",
       "    <tr>\n",
       "      <th>4</th>\n",
       "      <td>100300</td>\n",
       "      <td>990</td>\n",
       "      <td>B</td>\n",
       "    </tr>\n",
       "  </tbody>\n",
       "</table>\n",
       "</div>"
      ],
      "text/plain": [
       "   student_id  rev grp\n",
       "0        1627  990   A\n",
       "1        3185  690   B\n",
       "2       25973  690   B\n",
       "3       26280  690   B\n",
       "4      100300  990   B"
      ]
     },
     "execution_count": 171,
     "metadata": {},
     "output_type": "execute_result"
    }
   ],
   "source": [
    "checks_merged.head()"
   ]
  },
  {
   "cell_type": "markdown",
   "metadata": {},
   "source": [
    "1.2 Объединим таблицы active_studs и groups для возможности фильтрации пользователей по группам"
   ]
  },
  {
   "cell_type": "code",
   "execution_count": 172,
   "metadata": {},
   "outputs": [],
   "source": [
    "active_studs_merged = active_studs.merge(groups.rename(columns = {'id': 'student_id'}),\n",
    "                                        on = 'student_id')"
   ]
  },
  {
   "cell_type": "code",
   "execution_count": 174,
   "metadata": {
    "scrolled": true
   },
   "outputs": [
    {
     "data": {
      "text/html": [
       "<div>\n",
       "<style scoped>\n",
       "    .dataframe tbody tr th:only-of-type {\n",
       "        vertical-align: middle;\n",
       "    }\n",
       "\n",
       "    .dataframe tbody tr th {\n",
       "        vertical-align: top;\n",
       "    }\n",
       "\n",
       "    .dataframe thead th {\n",
       "        text-align: right;\n",
       "    }\n",
       "</style>\n",
       "<table border=\"1\" class=\"dataframe\">\n",
       "  <thead>\n",
       "    <tr style=\"text-align: right;\">\n",
       "      <th></th>\n",
       "      <th>student_id</th>\n",
       "      <th>grp</th>\n",
       "    </tr>\n",
       "  </thead>\n",
       "  <tbody>\n",
       "    <tr>\n",
       "      <th>0</th>\n",
       "      <td>581585</td>\n",
       "      <td>A</td>\n",
       "    </tr>\n",
       "    <tr>\n",
       "      <th>1</th>\n",
       "      <td>3276743</td>\n",
       "      <td>B</td>\n",
       "    </tr>\n",
       "    <tr>\n",
       "      <th>2</th>\n",
       "      <td>4238589</td>\n",
       "      <td>A</td>\n",
       "    </tr>\n",
       "    <tr>\n",
       "      <th>3</th>\n",
       "      <td>4475369</td>\n",
       "      <td>B</td>\n",
       "    </tr>\n",
       "    <tr>\n",
       "      <th>4</th>\n",
       "      <td>5481015</td>\n",
       "      <td>B</td>\n",
       "    </tr>\n",
       "  </tbody>\n",
       "</table>\n",
       "</div>"
      ],
      "text/plain": [
       "   student_id grp\n",
       "0      581585   A\n",
       "1     3276743   B\n",
       "2     4238589   A\n",
       "3     4475369   B\n",
       "4     5481015   B"
      ]
     },
     "execution_count": 174,
     "metadata": {},
     "output_type": "execute_result"
    }
   ],
   "source": [
    "active_studs_merged.head()"
   ]
  },
  {
   "cell_type": "markdown",
   "metadata": {},
   "source": [
    "1.3 Посчитаем CR в покупку для каждой группы"
   ]
  },
  {
   "cell_type": "markdown",
   "metadata": {},
   "source": [
    "Контрольная группа:"
   ]
  },
  {
   "cell_type": "code",
   "execution_count": 175,
   "metadata": {},
   "outputs": [],
   "source": [
    "CR_A = checks_merged.query('grp == \"A\"').shape[0] / \\\n",
    "       active_studs_merged.query('grp == \"A\"').shape[0]"
   ]
  },
  {
   "cell_type": "code",
   "execution_count": 176,
   "metadata": {},
   "outputs": [],
   "source": [
    "CR_A_perc_round = round(CR_A * 100, 1)"
   ]
  },
  {
   "cell_type": "code",
   "execution_count": 177,
   "metadata": {},
   "outputs": [
    {
     "name": "stdout",
     "output_type": "stream",
     "text": [
      "Конверсия в покупку в период проведения эксперимента для контрольной группы составила 7.0%\n"
     ]
    }
   ],
   "source": [
    "print('Конверсия в покупку в период проведения эксперимента для контрольной группы составила {}%' \\\n",
    "      .format(CR_A_perc_round))"
   ]
  },
  {
   "cell_type": "markdown",
   "metadata": {},
   "source": [
    "Тестовая группа:"
   ]
  },
  {
   "cell_type": "code",
   "execution_count": 178,
   "metadata": {},
   "outputs": [],
   "source": [
    "CR_B = checks_merged.query('grp == \"B\"').shape[0] / \\\n",
    "       active_studs_merged.query('grp == \"B\"').shape[0]"
   ]
  },
  {
   "cell_type": "code",
   "execution_count": 179,
   "metadata": {},
   "outputs": [],
   "source": [
    "CR_B_perc_round = round(CR_B * 100, 1)"
   ]
  },
  {
   "cell_type": "code",
   "execution_count": 181,
   "metadata": {},
   "outputs": [
    {
     "name": "stdout",
     "output_type": "stream",
     "text": [
      "Конверсия в покупку в период проведения эксперимента для тестовой группы составила 6.4%\n"
     ]
    }
   ],
   "source": [
    "print('Конверсия в покупку в период проведения эксперимента для тестовой группы составила {}%' \\\n",
    "      .format(CR_B_perc_round))"
   ]
  },
  {
   "cell_type": "markdown",
   "metadata": {},
   "source": [
    "  "
   ]
  },
  {
   "cell_type": "markdown",
   "metadata": {},
   "source": [
    "2) Рассчитаем ARPPU"
   ]
  },
  {
   "cell_type": "markdown",
   "metadata": {},
   "source": [
    "_Поскольку в таблице checks нет дубликатов, можно предполагать, что покупатели совершили по одной покупке, либо хранится информация о сумме всех заказов. \\\n",
    "Тогда просто необходимо рассчитать средний чек._"
   ]
  },
  {
   "cell_type": "markdown",
   "metadata": {},
   "source": [
    "Контрольная группа:"
   ]
  },
  {
   "cell_type": "code",
   "execution_count": 182,
   "metadata": {},
   "outputs": [],
   "source": [
    "ARPPU_A = round(checks_merged.query('grp == \"A\"').rev.sum() / \\\n",
    "                checks_merged.query('grp == \"A\"').shape[0],\n",
    "                1)"
   ]
  },
  {
   "cell_type": "code",
   "execution_count": 183,
   "metadata": {},
   "outputs": [
    {
     "name": "stdout",
     "output_type": "stream",
     "text": [
      "ARPPU в период проведения эксперимента для контрольной группы составил 860.7 у.е.\n"
     ]
    }
   ],
   "source": [
    "print('ARPPU в период проведения эксперимента для контрольной группы составил {} у.е.' \\\n",
    "      .format(ARPPU_A))"
   ]
  },
  {
   "cell_type": "markdown",
   "metadata": {},
   "source": [
    "Тестовая группа:"
   ]
  },
  {
   "cell_type": "code",
   "execution_count": 184,
   "metadata": {},
   "outputs": [],
   "source": [
    "ARPPU_B = round(checks_merged.query('grp == \"B\"').rev.sum() / \\\n",
    "                checks_merged.query('grp == \"B\"').shape[0],\n",
    "                1)"
   ]
  },
  {
   "cell_type": "code",
   "execution_count": 185,
   "metadata": {},
   "outputs": [
    {
     "name": "stdout",
     "output_type": "stream",
     "text": [
      "ARPPU в период проведения эксперимента для тестовой группы составил 1107.0 у.е.\n"
     ]
    }
   ],
   "source": [
    "print('ARPPU в период проведения эксперимента для тестовой группы составил {} у.е.' \\\n",
    "      .format(ARPPU_B))"
   ]
  },
  {
   "cell_type": "markdown",
   "metadata": {},
   "source": [
    "   "
   ]
  },
  {
   "cell_type": "markdown",
   "metadata": {},
   "source": [
    "3) ARPU"
   ]
  },
  {
   "cell_type": "markdown",
   "metadata": {},
   "source": [
    "_Перемножим конверсию в покупку с ARPPU_"
   ]
  },
  {
   "cell_type": "markdown",
   "metadata": {},
   "source": [
    "3.1 Контрольная группа:"
   ]
  },
  {
   "cell_type": "code",
   "execution_count": 186,
   "metadata": {},
   "outputs": [],
   "source": [
    "ARPU_A = round(CR_A * ARPPU_A,\n",
    "               1)"
   ]
  },
  {
   "cell_type": "code",
   "execution_count": 187,
   "metadata": {},
   "outputs": [
    {
     "name": "stdout",
     "output_type": "stream",
     "text": [
      "ARPU в период проведения эксперимента для контрольной группы составил 60.0 у.е.\n"
     ]
    }
   ],
   "source": [
    "print('ARPU в период проведения эксперимента для контрольной группы составил {} у.е.' \\\n",
    "      .format(ARPU_A))"
   ]
  },
  {
   "cell_type": "markdown",
   "metadata": {},
   "source": [
    "3.2 Тестовая группа"
   ]
  },
  {
   "cell_type": "code",
   "execution_count": 188,
   "metadata": {},
   "outputs": [],
   "source": [
    "ARPU_B = round(CR_B * ARPPU_B,\n",
    "               1)"
   ]
  },
  {
   "cell_type": "code",
   "execution_count": 189,
   "metadata": {},
   "outputs": [
    {
     "name": "stdout",
     "output_type": "stream",
     "text": [
      "ARPU в период проведения эксперимента для тестовой группы составил 70.6 у.е.\n"
     ]
    }
   ],
   "source": [
    "print('ARPU в период проведения эксперимента для тестовой группы составил {} у.е.' \\\n",
    "      .format(ARPU_B))"
   ]
  },
  {
   "cell_type": "markdown",
   "metadata": {},
   "source": [
    "   "
   ]
  },
  {
   "cell_type": "markdown",
   "metadata": {},
   "source": [
    "_Конверсия у тестовой группы меньше на 0.6%, однако ARPPU и ARPU больше на 246.3 и 10.6 у.е. соответственно. \\\n",
    "Можно сделать вывод, что новая механика оплаты услуг лучше мотивирует добавлять больше товаров в корзину и/или более дорогие, однако хуже доводит до покупки._  \n"
   ]
  },
  {
   "cell_type": "markdown",
   "metadata": {},
   "source": [
    "### Проверка статистической значимости отличий"
   ]
  },
  {
   "cell_type": "markdown",
   "metadata": {},
   "source": [
    "#### CR"
   ]
  },
  {
   "cell_type": "markdown",
   "metadata": {},
   "source": [
    "_Рассчитаем доверительные интервалы показателя конверсии для каждой группы, а затем посчитаем доверительный интервал разницы. Если он будет содержать нулевое значение, разница будет статистически незначимой._"
   ]
  },
  {
   "cell_type": "markdown",
   "metadata": {},
   "source": [
    "1. Доверительные интервалы конверсии для каждой группы"
   ]
  },
  {
   "cell_type": "code",
   "execution_count": 190,
   "metadata": {},
   "outputs": [],
   "source": [
    "n_A_group = active_studs_merged.query('grp == \"A\"').shape[0] # размер выборки группы A "
   ]
  },
  {
   "cell_type": "code",
   "execution_count": 192,
   "metadata": {},
   "outputs": [],
   "source": [
    "n_B_group = active_studs_merged.query('grp == \"B\"').shape[0] # размер выборки группы B "
   ]
  },
  {
   "cell_type": "code",
   "execution_count": 193,
   "metadata": {},
   "outputs": [],
   "source": [
    "conf_int_low_A = round((CR_A - 1.96 * np.sqrt( (CR_A * (1 - CR_A)) / n_A_group)) * 100, \n",
    "                       1)\n",
    "                       "
   ]
  },
  {
   "cell_type": "code",
   "execution_count": 194,
   "metadata": {},
   "outputs": [],
   "source": [
    "conf_int_high_A = round((CR_A + 1.96 * np.sqrt( (CR_A * (1 - CR_A)) / n_A_group)) * 100, \n",
    "                        1)"
   ]
  },
  {
   "cell_type": "code",
   "execution_count": 195,
   "metadata": {},
   "outputs": [],
   "source": [
    "conf_int_low_B = round((CR_B - 1.96 * np.sqrt( (CR_B * (1 - CR_B)) / n_B_group)) * 100, \n",
    "                       1)"
   ]
  },
  {
   "cell_type": "code",
   "execution_count": 196,
   "metadata": {},
   "outputs": [],
   "source": [
    "conf_int_high_B = round((CR_B + 1.96 * np.sqrt( (CR_B * (1 - CR_B)) / n_B_group)) * 100, \n",
    "                        1)"
   ]
  },
  {
   "cell_type": "code",
   "execution_count": 197,
   "metadata": {},
   "outputs": [
    {
     "name": "stdout",
     "output_type": "stream",
     "text": [
      "С вероятностью 95% конверсия в контрольной группе лежит в интервале [5.7% ; 8.2%]\n"
     ]
    }
   ],
   "source": [
    "print('С вероятностью 95% конверсия в контрольной группе лежит в интервале [{}% ; {}%]' \\\n",
    "      .format(conf_int_low_A, conf_int_high_A))"
   ]
  },
  {
   "cell_type": "code",
   "execution_count": 198,
   "metadata": {},
   "outputs": [
    {
     "name": "stdout",
     "output_type": "stream",
     "text": [
      "С вероятностью 95% конверсия в тестовой группе лежит в интервале [5.8% ; 7.0%]\n"
     ]
    }
   ],
   "source": [
    "print('С вероятностью 95% конверсия в тестовой группе лежит в интервале [{}% ; {}%]' \\\n",
    "      .format(conf_int_low_B, conf_int_high_B))"
   ]
  },
  {
   "cell_type": "markdown",
   "metadata": {},
   "source": [
    "2. Доверительный интервал разницы (в процентах)"
   ]
  },
  {
   "cell_type": "code",
   "execution_count": 199,
   "metadata": {},
   "outputs": [],
   "source": [
    "conf_int_diff_low = round((CR_B - CR_A - \\\n",
    "                           1.96 * np.sqrt( ((CR_A * (1 - CR_A)) / n_A_group) + \\\n",
    "                                           ((CR_B * (1 - CR_B)) / n_B_group)\n",
    "                                         ))\n",
    "                          *100,\n",
    "                          1)"
   ]
  },
  {
   "cell_type": "code",
   "execution_count": 200,
   "metadata": {},
   "outputs": [],
   "source": [
    "conf_int_diff_high = round((CR_B - CR_A + \\\n",
    "                            1.96 * np.sqrt( ((CR_A * (1 - CR_A)) / n_A_group) + \\\n",
    "                                            ((CR_B * (1 - CR_B)) / n_B_group)\n",
    "                                          ))\n",
    "                          *100,\n",
    "                          1)"
   ]
  },
  {
   "cell_type": "code",
   "execution_count": 201,
   "metadata": {},
   "outputs": [
    {
     "name": "stdout",
     "output_type": "stream",
     "text": [
      "Ухудшение в конверсии с вероятностью 95% лежит в интервале [-2.0% ; 0.8%]\n"
     ]
    }
   ],
   "source": [
    "print('Ухудшение в конверсии с вероятностью 95% лежит в интервале [{}% ; {}%]' \\\n",
    "      .format(conf_int_diff_low, conf_int_diff_high))"
   ]
  },
  {
   "cell_type": "markdown",
   "metadata": {},
   "source": [
    "_Вывод: интервал ухудшения конверсии содержит нулевое значение, поэтому делаем вывод, что конверсия снизилась статистически незначимо_"
   ]
  },
  {
   "cell_type": "markdown",
   "metadata": {},
   "source": [
    "#### ARPPU"
   ]
  },
  {
   "cell_type": "markdown",
   "metadata": {},
   "source": [
    "_Исследуем распределение дохода с покупателей, чтобы выбрать правильный статистический критерий для сравнения._"
   ]
  },
  {
   "cell_type": "markdown",
   "metadata": {},
   "source": [
    "Контрольная группа"
   ]
  },
  {
   "cell_type": "code",
   "execution_count": 202,
   "metadata": {},
   "outputs": [
    {
     "data": {
      "text/plain": [
       "<AxesSubplot:xlabel='rev', ylabel='Count'>"
      ]
     },
     "execution_count": 202,
     "metadata": {},
     "output_type": "execute_result"
    },
    {
     "data": {
      "image/png": "[encoded data removed]",
      "text/plain": [
       "<Figure size 432x288 with 1 Axes>"
      ]
     },
     "metadata": {
      "needs_background": "light"
     },
     "output_type": "display_data"
    }
   ],
   "source": [
    "sns.histplot(checks_merged.query('grp == \"A\"').rev)"
   ]
  },
  {
   "cell_type": "markdown",
   "metadata": {},
   "source": [
    "Тестовая группа"
   ]
  },
  {
   "cell_type": "code",
   "execution_count": 203,
   "metadata": {
    "scrolled": true
   },
   "outputs": [
    {
     "data": {
      "text/plain": [
       "<AxesSubplot:xlabel='rev', ylabel='Count'>"
      ]
     },
     "execution_count": 203,
     "metadata": {},
     "output_type": "execute_result"
    },
    {
     "data": {
      "image/png": "[encoded data removed]",
      "text/plain": [
       "<Figure size 432x288 with 1 Axes>"
      ]
     },
     "metadata": {
      "needs_background": "light"
     },
     "output_type": "display_data"
    }
   ],
   "source": [
    "sns.histplot(checks_merged.query('grp == \"B\"').rev)"
   ]
  },
  {
   "cell_type": "markdown",
   "metadata": {},
   "source": [
    "_Очевидно, что обе группы визуально имеют НЕ нормальное распределение, однако примерно одинаковое, поэтому воспользуемся U-тестом Манна-Уитни (alpha = 0.05)._"
   ]
  },
  {
   "cell_type": "code",
   "execution_count": 204,
   "metadata": {},
   "outputs": [
    {
     "name": "stdout",
     "output_type": "stream",
     "text": [
      " Mann–Whitney U Test: statistic=17850.0000, p-value=0.0001\n"
     ]
    }
   ],
   "source": [
    "stat, p_value = scipy.stats.mannwhitneyu(checks_merged.query('grp == \"A\"').rev,\n",
    "                                         checks_merged.query('grp == \"B\"').rev)\n",
    "\n",
    "print(f\" Mann–Whitney U Test: statistic={stat:.4f}, p-value={p_value:.4f}\")"
   ]
  },
  {
   "cell_type": "markdown",
   "metadata": {},
   "source": [
    "_p-value значительно ниже 0.05 - делаем вывод, что средний доход с покупателя между группами различается статистически значимо._"
   ]
  },
  {
   "cell_type": "markdown",
   "metadata": {},
   "source": [
    "#### ARPU"
   ]
  },
  {
   "cell_type": "markdown",
   "metadata": {},
   "source": [
    "_Объединим таблицы groups_concat и checks методов LEFT с целью оставить всех пользователей и добавить доход только к покупателям, остальным присвоим ноль._"
   ]
  },
  {
   "cell_type": "code",
   "execution_count": 205,
   "metadata": {},
   "outputs": [],
   "source": [
    "users_with_rev = groups_concat.rename(columns = {'id': 'student_id'}) \\\n",
    "                              .merge(checks, on = 'student_id', how = 'left') \\\n",
    "                              .fillna(0)"
   ]
  },
  {
   "cell_type": "code",
   "execution_count": 206,
   "metadata": {},
   "outputs": [
    {
     "data": {
      "text/html": [
       "<div>\n",
       "<style scoped>\n",
       "    .dataframe tbody tr th:only-of-type {\n",
       "        vertical-align: middle;\n",
       "    }\n",
       "\n",
       "    .dataframe tbody tr th {\n",
       "        vertical-align: top;\n",
       "    }\n",
       "\n",
       "    .dataframe thead th {\n",
       "        text-align: right;\n",
       "    }\n",
       "</style>\n",
       "<table border=\"1\" class=\"dataframe\">\n",
       "  <thead>\n",
       "    <tr style=\"text-align: right;\">\n",
       "      <th></th>\n",
       "      <th>student_id</th>\n",
       "      <th>grp</th>\n",
       "      <th>rev</th>\n",
       "    </tr>\n",
       "  </thead>\n",
       "  <tbody>\n",
       "    <tr>\n",
       "      <th>0</th>\n",
       "      <td>1489</td>\n",
       "      <td>B</td>\n",
       "      <td>0.0</td>\n",
       "    </tr>\n",
       "    <tr>\n",
       "      <th>1</th>\n",
       "      <td>1627</td>\n",
       "      <td>A</td>\n",
       "      <td>990.0</td>\n",
       "    </tr>\n",
       "    <tr>\n",
       "      <th>2</th>\n",
       "      <td>1768</td>\n",
       "      <td>B</td>\n",
       "      <td>0.0</td>\n",
       "    </tr>\n",
       "    <tr>\n",
       "      <th>3</th>\n",
       "      <td>1783</td>\n",
       "      <td>B</td>\n",
       "      <td>0.0</td>\n",
       "    </tr>\n",
       "    <tr>\n",
       "      <th>4</th>\n",
       "      <td>1794</td>\n",
       "      <td>A</td>\n",
       "      <td>0.0</td>\n",
       "    </tr>\n",
       "  </tbody>\n",
       "</table>\n",
       "</div>"
      ],
      "text/plain": [
       "   student_id grp    rev\n",
       "0        1489   B    0.0\n",
       "1        1627   A  990.0\n",
       "2        1768   B    0.0\n",
       "3        1783   B    0.0\n",
       "4        1794   A    0.0"
      ]
     },
     "execution_count": 206,
     "metadata": {},
     "output_type": "execute_result"
    }
   ],
   "source": [
    "users_with_rev.head()"
   ]
  },
  {
   "cell_type": "markdown",
   "metadata": {},
   "source": [
    "_Визуально оценим распределение дохода по пользователям_"
   ]
  },
  {
   "cell_type": "markdown",
   "metadata": {},
   "source": [
    "Контрольная группа"
   ]
  },
  {
   "cell_type": "code",
   "execution_count": 207,
   "metadata": {
    "scrolled": true
   },
   "outputs": [
    {
     "data": {
      "text/plain": [
       "<AxesSubplot:xlabel='rev', ylabel='Count'>"
      ]
     },
     "execution_count": 207,
     "metadata": {},
     "output_type": "execute_result"
    },
    {
     "data": {
      "image/png": "[encoded data removed]",
      "text/plain": [
       "<Figure size 432x288 with 1 Axes>"
      ]
     },
     "metadata": {
      "needs_background": "light"
     },
     "output_type": "display_data"
    }
   ],
   "source": [
    "sns.histplot(users_with_rev.query('grp == \"A\"').rev)"
   ]
  },
  {
   "cell_type": "markdown",
   "metadata": {},
   "source": [
    "Тестовая группа"
   ]
  },
  {
   "cell_type": "code",
   "execution_count": 208,
   "metadata": {
    "scrolled": true
   },
   "outputs": [
    {
     "data": {
      "text/plain": [
       "<AxesSubplot:xlabel='rev', ylabel='Count'>"
      ]
     },
     "execution_count": 208,
     "metadata": {},
     "output_type": "execute_result"
    },
    {
     "data": {
      "image/png": "[encoded data removed]",
      "text/plain": [
       "<Figure size 432x288 with 1 Axes>"
      ]
     },
     "metadata": {
      "needs_background": "light"
     },
     "output_type": "display_data"
    }
   ],
   "source": [
    "sns.histplot(users_with_rev.query('grp == \"B\"').rev)"
   ]
  },
  {
   "cell_type": "markdown",
   "metadata": {},
   "source": [
    "_Так как распределения одинаковые, вновь применим U-тестом Манна-Уитни (alpha = 0.05)_"
   ]
  },
  {
   "cell_type": "code",
   "execution_count": 209,
   "metadata": {},
   "outputs": [
    {
     "name": "stdout",
     "output_type": "stream",
     "text": [
      " Mann–Whitney U Test: statistic = 439920457.0000, p-value = 0.4884\n"
     ]
    }
   ],
   "source": [
    "stat, p_value = scipy.stats.mannwhitneyu(users_with_rev.query('grp == \"A\"').rev,\n",
    "                                         users_with_rev.query('grp == \"B\"').rev)\n",
    "\n",
    "print(f\" Mann–Whitney U Test: statistic = {stat:.4f}, p-value = {p_value:.4f}\")"
   ]
  },
  {
   "cell_type": "markdown",
   "metadata": {},
   "source": [
    "_p-value больше 0.05 - делаем вывод, что средний доход с пользователя между группами различается статистически НЕзначимо._ "
   ]
  },
  {
   "cell_type": "markdown",
   "metadata": {},
   "source": [
    "_Таким образом, по результатам АБ тестирования можно утверждать, что новая механика оплаты услуг лучше предыдущей, так как значимо повысила средний доход с покупателя._ "
   ]
  },
  {
   "cell_type": "markdown",
   "metadata": {},
   "source": [
    "# SQL"
   ]
  },
  {
   "cell_type": "markdown",
   "metadata": {},
   "source": [
    "## \"Очень усердные ученики\""
   ]
  },
  {
   "cell_type": "markdown",
   "metadata": {},
   "source": [
    "### Условие"
   ]
  },
  {
   "cell_type": "markdown",
   "metadata": {},
   "source": [
    "_Образовательные курсы состоят из различных уроков, каждый из которых состоит из нескольких маленьких заданий. Каждое такое маленькое задание называется \"горошиной\"._\n",
    "\n",
    "_Назовём очень усердным учеником того пользователя, который хотя бы раз за текущий месяц правильно решил 20 горошин._"
   ]
  },
  {
   "cell_type": "markdown",
   "metadata": {},
   "source": [
    "### Задача"
   ]
  },
  {
   "cell_type": "markdown",
   "metadata": {},
   "source": [
    "_Дана таблица default.peas:_\n",
    "\n",
    "|Название атрибута||Тип атрибута||Смысловое значение|\n",
    "|---||---||---|\n",
    "|st_id||int||ID ученика|\n",
    "|timesst||timestamp||Время решения карточки|\n",
    "|correct||bool||Правильно ли решена горошина?|\n",
    "|subject||text||Дисциплина в которой находится горошина|\n"
   ]
  },
  {
   "cell_type": "markdown",
   "metadata": {},
   "source": [
    "_Необходимо написать оптимальный запрос, который даст информацию о количестве очень усердных студентов._ \\\n",
    "_Под усердным студентом мы понимаем студента, который правильно решил 20 задач за текущий месяц._"
   ]
  },
  {
   "cell_type": "markdown",
   "metadata": {},
   "source": [
    "### Реализация"
   ]
  },
  {
   "cell_type": "markdown",
   "metadata": {},
   "source": [
    "_Настройки подключения к базе данных_"
   ]
  },
  {
   "cell_type": "code",
   "execution_count": 146,
   "metadata": {},
   "outputs": [],
   "source": [
    "connection_default = {'host':     'https://clickhouse.lab.karpov.courses',\n",
    "                      'database': 'default',\n",
    "                      'user':     'student', \n",
    "                      'password': 'dpo_python_2020'}"
   ]
  },
  {
   "cell_type": "markdown",
   "metadata": {},
   "source": [
    "**Запрос к БД**\n"
   ]
  },
  {
   "cell_type": "code",
   "execution_count": 333,
   "metadata": {},
   "outputs": [],
   "source": [
    "query_1 = \"\"\"\n",
    "\n",
    "WITH \n",
    "    (\n",
    "    SELECT \n",
    "        month(max(timest))  \n",
    "     FROM \n",
    "        default.peas\n",
    "    ) as last_date              -- последняя дата в таблице\n",
    "    \n",
    "SELECT\n",
    "    COUNT(*) as count_of_students                     \n",
    "FROM\n",
    "    (\n",
    "    SELECT \n",
    "        st_id,\n",
    "        sum(correct) as count_of_gor\n",
    "    FROM\n",
    "        default.peas\n",
    "    WHERE\n",
    "        month(timest) = last_date     \n",
    "    GROUP BY \n",
    "        st_id\n",
    "    HAVING \n",
    "        count_of_gor >= 20                             -- отсечение количества правильно решённых задач меньше 20\n",
    "    )\n",
    "\n",
    "\"\"\""
   ]
  },
  {
   "cell_type": "code",
   "execution_count": 334,
   "metadata": {},
   "outputs": [],
   "source": [
    "result_query_1 = ph.read_clickhouse(query = query_1, \n",
    "                               connection = connection_default)"
   ]
  },
  {
   "cell_type": "code",
   "execution_count": 335,
   "metadata": {},
   "outputs": [
    {
     "data": {
      "text/html": [
       "<div>\n",
       "<style scoped>\n",
       "    .dataframe tbody tr th:only-of-type {\n",
       "        vertical-align: middle;\n",
       "    }\n",
       "\n",
       "    .dataframe tbody tr th {\n",
       "        vertical-align: top;\n",
       "    }\n",
       "\n",
       "    .dataframe thead th {\n",
       "        text-align: right;\n",
       "    }\n",
       "</style>\n",
       "<table border=\"1\" class=\"dataframe\">\n",
       "  <thead>\n",
       "    <tr style=\"text-align: right;\">\n",
       "      <th></th>\n",
       "      <th>count_of_students</th>\n",
       "    </tr>\n",
       "  </thead>\n",
       "  <tbody>\n",
       "    <tr>\n",
       "      <th>0</th>\n",
       "      <td>136</td>\n",
       "    </tr>\n",
       "  </tbody>\n",
       "</table>\n",
       "</div>"
      ],
      "text/plain": [
       "   count_of_students\n",
       "0                136"
      ]
     },
     "execution_count": 335,
     "metadata": {},
     "output_type": "execute_result"
    }
   ],
   "source": [
    "result_query_1"
   ]
  },
  {
   "cell_type": "code",
   "execution_count": 336,
   "metadata": {},
   "outputs": [
    {
     "name": "stdout",
     "output_type": "stream",
     "text": [
      "136 студентов являются очень усердными, то есть решили как минимум 20 задач за текущий месяц\n"
     ]
    }
   ],
   "source": [
    "print(f'{result_query_1.iloc[0][0]} студентов являются очень усердными, то есть решили как минимум 20 задач за текущий месяц')"
   ]
  },
  {
   "cell_type": "markdown",
   "metadata": {},
   "source": [
    "## Оптимизация воронки"
   ]
  },
  {
   "cell_type": "markdown",
   "metadata": {},
   "source": [
    "### Условие"
   ]
  },
  {
   "cell_type": "markdown",
   "metadata": {},
   "source": [
    "_Образовательная платформа предлагает пройти студентам курсы по модели trial: студент может решить бесплатно лишь 30 горошин в день. Для неограниченного количества заданий в определенной дисциплине студенту необходимо приобрести полный доступ. Команда провела эксперимент, где был протестирован новый экран оплаты._"
   ]
  },
  {
   "cell_type": "markdown",
   "metadata": {},
   "source": [
    "### Задача"
   ]
  },
  {
   "cell_type": "markdown",
   "metadata": {},
   "source": [
    "_Даны таблицы_ \n",
    "\n",
    "_default.peas:_\n",
    "\n",
    "|Название атрибута||Тип атрибута||Смысловое значение|\n",
    "|---||---||---|\n",
    "|st_id||int||ID ученика|\n",
    "|timesst||timestamp||Время решения карточки|\n",
    "|correct||bool||Правильно ли решена горошина?|\n",
    "|subject||text||Дисциплина в которой находится горошина|\n",
    "\n",
    "\n",
    "\\\n",
    "_default.studs:_\n",
    "\n",
    "|Название атрибута||Тип атрибута||Смысловое значение|\n",
    "|---||---||---|\n",
    "|st_id||int||ID ученика|\n",
    "|test_grp||text||Метка ученика в данном эксперименте|\n",
    "\n",
    "\n",
    "\\\n",
    "_default.final_project_check:_\n",
    "\n",
    "|Название атрибута||Тип атрибута||Смысловое значение|\n",
    "|---||---||---|\n",
    "|st_id||int||ID ученика|\n",
    "|saletime||timestamp||Время покупки|\n",
    "|money||int||Цена, по которой приобрели данный курс|\n",
    "|subject||text|||"
   ]
  },
  {
   "cell_type": "markdown",
   "metadata": {},
   "source": [
    "_Необходимо в одном запросе выгрузить следующую информацию о группах пользователей:_\n",
    "\n",
    "- _ARPU_ \n",
    "- _ARPAU_\n",
    "- _CR в покупку_ \n",
    "- _СR активного пользователя в покупку_ \n",
    "- _CR пользователя из активности по математике (subject = ’math’) в покупку курса по математике_\n",
    "\n",
    "_ARPU считается относительно всех пользователей, попавших в группы._\n",
    "\n",
    "_Активным считается пользователь, за все время решивший больше 10 задач правильно в любых дисциплинах._\n",
    "\n",
    "_Активным по математике считается пользователь, за все время решивший 2 или больше задач правильно по математике._"
   ]
  },
  {
   "cell_type": "markdown",
   "metadata": {},
   "source": [
    "### Реализация"
   ]
  },
  {
   "cell_type": "markdown",
   "metadata": {},
   "source": [
    "**Запрос к БД**"
   ]
  },
  {
   "cell_type": "code",
   "execution_count": 315,
   "metadata": {},
   "outputs": [],
   "source": [
    "query_2 = \"\"\"\n",
    "\n",
    "SELECT \n",
    "    A.group_test as group_test,\n",
    "    ARPU,\n",
    "    ARPAU,\n",
    "    CR, \n",
    "    CR_act,\n",
    "    CR_act_math\n",
    "FROM\n",
    "    (\n",
    "    SELECT \n",
    "        test_grp as group_test,\n",
    "        AVG(money) as ARPU\n",
    "    FROM \n",
    "        default.studs as studs\n",
    "        LEFT JOIN \n",
    "            default.final_project_check as check\n",
    "        ON \n",
    "            check.st_id = studs.st_id\n",
    "    GROUP BY\n",
    "        test_grp\n",
    "    ) as A\n",
    "    \n",
    "INNER JOIN\n",
    "\n",
    "    (\n",
    "    SELECT \n",
    "        test_grp as group_test,\n",
    "        AVG(money) as ARPAU\n",
    "    FROM \n",
    "        default.studs as studs\n",
    "        LEFT JOIN \n",
    "            default.final_project_check as check\n",
    "        ON \n",
    "            check.st_id = studs.st_id\n",
    "        INNER JOIN (\n",
    "            SELECT\n",
    "                first_value(st_id) as student_id,\n",
    "                SUM(correct) as sum_tasks_done  \n",
    "            FROM \n",
    "                default.peas \n",
    "            GROUP BY    \n",
    "                st_id\n",
    "            HAVING \n",
    "                sum_tasks_done > 10\n",
    "            ) as peas\n",
    "        ON  \n",
    "            studs.st_id = peas.student_id\n",
    "    GROUP BY\n",
    "        test_grp\n",
    "    ) as B\n",
    "    \n",
    "ON\n",
    "    A.group_test = B.group_test\n",
    "    \n",
    "INNER JOIN\n",
    "\n",
    "    (\n",
    "    SELECT \n",
    "        group_test,\n",
    "        CR_ch / CR_zn * 100 as CR\n",
    "    FROM \n",
    "        (\n",
    "        SELECT \n",
    "            first_value(test_grp) as group_test,\n",
    "            COUNT(DISTINCT st_id) CR_ch\n",
    "        FROM \n",
    "            default.studs as studs\n",
    "            LEFT JOIN \n",
    "                default.final_project_check as check\n",
    "            ON \n",
    "                check.st_id = studs.st_id\n",
    "        WHERE \n",
    "            money != 0\n",
    "        GROUP BY \n",
    "            test_grp\n",
    "        ) AS A\n",
    "        \n",
    "        INNER JOIN\n",
    "        \n",
    "        (\n",
    "        SELECT \n",
    "            first_value(test_grp) as group_test,\n",
    "            COUNT(DISTINCT st_id) as CR_zn\n",
    "        FROM \n",
    "            default.studs\n",
    "        GROUP BY \n",
    "            test_grp\n",
    "        ) AS B\n",
    "        \n",
    "        ON\n",
    "        A.group_test = B.group_test\n",
    "    ) as C\n",
    "\n",
    "ON\n",
    "    B.group_test = C.group_test\n",
    "\n",
    "INNER JOIN \n",
    "    \n",
    "    (\n",
    "    SELECT \n",
    "        group_test,\n",
    "        CR_act_ch / CR_act_zn * 100 as CR_act\n",
    "    FROM \n",
    "        (\n",
    "        SELECT \n",
    "            group_test,\n",
    "            COUNT(DISTINCT st_id) as CR_act_ch\n",
    "        FROM\n",
    "            (SELECT\n",
    "                st_id\n",
    "            FROM\n",
    "                default.final_project_check\n",
    "            WHERE \n",
    "                money != 0) as check\n",
    "                \n",
    "                INNER JOIN\n",
    "                    \n",
    "            (SELECT\n",
    "                st_id as student_id,\n",
    "                SUM(correct) as sum_tasks_done\n",
    "            FROM \n",
    "                default.peas\n",
    "            GROUP BY\n",
    "                st_id\n",
    "            HAVING \n",
    "                sum_tasks_done > 10) as active_users\n",
    "                    \n",
    "                ON\n",
    "            check.st_id = active_users.student_id\n",
    "                \n",
    "                INNER JOIN\n",
    "                \n",
    "            (SELECT\n",
    "                st_id as student_id,\n",
    "                test_grp as group_test\n",
    "            FROM\n",
    "                default.studs\n",
    "            ) as studs\n",
    "                \n",
    "                ON\n",
    "            check.st_id = studs.student_id\n",
    "        GROUP BY \n",
    "            group_test\n",
    "        ) AS A\n",
    "        \n",
    "        INNER JOIN\n",
    "        \n",
    "        (\n",
    "        SELECT \n",
    "            group_test,\n",
    "            COUNT(DISTINCT student_id) as CR_act_zn\n",
    "        FROM\n",
    "            (SELECT\n",
    "                st_id as student_id,\n",
    "                SUM(correct) as sum_tasks_done\n",
    "            FROM \n",
    "                default.peas\n",
    "            GROUP BY\n",
    "                st_id\n",
    "            HAVING \n",
    "                sum_tasks_done > 10) as active_users\n",
    "                \n",
    "                INNER JOIN\n",
    "                \n",
    "            (SELECT\n",
    "                st_id as student_id,\n",
    "                test_grp as group_test\n",
    "            FROM\n",
    "                default.studs\n",
    "            ) as studs\n",
    "                \n",
    "                ON\n",
    "            active_users.student_id = studs.student_id\n",
    "        GROUP BY \n",
    "            group_test\n",
    "        ) AS B\n",
    "        \n",
    "        ON\n",
    "        A.group_test = B.group_test\n",
    "    ) as D\n",
    "    \n",
    "ON\n",
    "    C.group_test = D.group_test\n",
    "    \n",
    "INNER JOIN\n",
    "\n",
    "    (\n",
    "    SELECT \n",
    "    group_test,\n",
    "    CR_act_pay_math / CR_act_math * 100 as CR_act_math\n",
    "    FROM \n",
    "    (\n",
    "    SELECT \n",
    "        group_test,\n",
    "        COUNT(DISTINCT st_id) as CR_act_pay_math\n",
    "    FROM\n",
    "        (SELECT\n",
    "            st_id\n",
    "        FROM\n",
    "            default.final_project_check\n",
    "        WHERE \n",
    "            money != 0) as check\n",
    "            \n",
    "            INNER JOIN\n",
    "                \n",
    "        (SELECT\n",
    "            st_id as student_id,\n",
    "            SUM(correct) as sum_tasks_done\n",
    "        FROM \n",
    "            default.peas\n",
    "        WHERE\n",
    "            subject = 'Math'\n",
    "        GROUP BY\n",
    "            st_id\n",
    "        HAVING \n",
    "            sum_tasks_done >= 2) as active_users\n",
    "                \n",
    "            ON\n",
    "        check.st_id = active_users.student_id\n",
    "            \n",
    "            INNER JOIN\n",
    "            \n",
    "        (SELECT\n",
    "            st_id as student_id,\n",
    "            test_grp as group_test\n",
    "        FROM\n",
    "            default.studs\n",
    "        ) as studs\n",
    "            \n",
    "            ON\n",
    "        check.st_id = studs.student_id\n",
    "    GROUP BY \n",
    "        group_test\n",
    "    ) AS A\n",
    "    \n",
    "    INNER JOIN\n",
    "    \n",
    "    (\n",
    "    SELECT \n",
    "        group_test,\n",
    "        COUNT(DISTINCT student_id) as CR_act_math\n",
    "    FROM\n",
    "        (SELECT\n",
    "            st_id as student_id,\n",
    "            SUM(correct) as sum_tasks_done\n",
    "        FROM \n",
    "            default.peas\n",
    "        WHERE \n",
    "            subject = 'Math'\n",
    "        GROUP BY\n",
    "            st_id\n",
    "        HAVING \n",
    "            sum_tasks_done >= 2) as active_users\n",
    "            \n",
    "            INNER JOIN\n",
    "            \n",
    "        (SELECT\n",
    "            st_id as student_id,\n",
    "            test_grp as group_test\n",
    "        FROM\n",
    "            default.studs\n",
    "        ) as studs\n",
    "            \n",
    "            ON\n",
    "        active_users.student_id = studs.student_id\n",
    "    GROUP BY \n",
    "        group_test\n",
    "    ) AS B\n",
    "    \n",
    "    ON\n",
    "    A.group_test = B.group_test\n",
    "    ) as E\n",
    "    \n",
    "ON D.group_test = E.group_test\n",
    "\n",
    "\"\"\""
   ]
  },
  {
   "cell_type": "code",
   "execution_count": 316,
   "metadata": {},
   "outputs": [],
   "source": [
    "result_query_2 = ph.read_clickhouse(query = query_2, \n",
    "                               connection = connection_default)"
   ]
  },
  {
   "cell_type": "code",
   "execution_count": 317,
   "metadata": {},
   "outputs": [
    {
     "data": {
      "text/html": [
       "<div>\n",
       "<style scoped>\n",
       "    .dataframe tbody tr th:only-of-type {\n",
       "        vertical-align: middle;\n",
       "    }\n",
       "\n",
       "    .dataframe tbody tr th {\n",
       "        vertical-align: top;\n",
       "    }\n",
       "\n",
       "    .dataframe thead th {\n",
       "        text-align: right;\n",
       "    }\n",
       "</style>\n",
       "<table border=\"1\" class=\"dataframe\">\n",
       "  <thead>\n",
       "    <tr style=\"text-align: right;\">\n",
       "      <th></th>\n",
       "      <th>group_test</th>\n",
       "      <th>ARPU</th>\n",
       "      <th>ARPAU</th>\n",
       "      <th>CR</th>\n",
       "      <th>CR_act</th>\n",
       "      <th>CR_act_math</th>\n",
       "    </tr>\n",
       "  </thead>\n",
       "  <tbody>\n",
       "    <tr>\n",
       "      <th>0</th>\n",
       "      <td>control</td>\n",
       "      <td>4496.753247</td>\n",
       "      <td>10153.846154</td>\n",
       "      <td>4.918033</td>\n",
       "      <td>11.023622</td>\n",
       "      <td>10.204082</td>\n",
       "    </tr>\n",
       "    <tr>\n",
       "      <th>1</th>\n",
       "      <td>pilot</td>\n",
       "      <td>11094.771242</td>\n",
       "      <td>26933.962264</td>\n",
       "      <td>10.847458</td>\n",
       "      <td>26.041667</td>\n",
       "      <td>14.285714</td>\n",
       "    </tr>\n",
       "  </tbody>\n",
       "</table>\n",
       "</div>"
      ],
      "text/plain": [
       "  group_test          ARPU         ARPAU         CR     CR_act  CR_act_math\n",
       "0    control   4496.753247  10153.846154   4.918033  11.023622    10.204082\n",
       "1      pilot  11094.771242  26933.962264  10.847458  26.041667    14.285714"
      ]
     },
     "execution_count": 317,
     "metadata": {},
     "output_type": "execute_result"
    }
   ],
   "source": [
    "result_query_2"
   ]
  },
  {
   "cell_type": "markdown",
   "metadata": {},
   "source": [
    "# Python"
   ]
  },
  {
   "cell_type": "markdown",
   "metadata": {},
   "source": [
    "## Функция подгрузки информации и пересчёта метрик"
   ]
  },
  {
   "cell_type": "markdown",
   "metadata": {},
   "source": [
    "### Задача\n",
    "_Реализуйте функцию, которая будет автоматически подгружать информацию из дополнительного файла groups_add.csv (заголовки могут отличаться) и на основании дополнительных параметров пересчитывать метрики._"
   ]
  },
  {
   "cell_type": "markdown",
   "metadata": {},
   "source": [
    "### Реализация"
   ]
  },
  {
   "cell_type": "code",
   "execution_count": 313,
   "metadata": {},
   "outputs": [],
   "source": [
    "def updating_info(new_df_link):\n",
    "    groups_add = pd.read_csv(new_df_link, names = ['id', 'grp'])\n",
    "    \n",
    "    # Объединение таблиц вертикально\n",
    "    frames = [groups, groups_add] \n",
    "    groups_concat = pd.concat(frames).drop_duplicates() \n",
    "    \n",
    "    # Объединение таблиц для рассчёта\n",
    "    checks_merged = checks.merge(groups_concat.rename(columns = {'id': 'student_id'}), \n",
    "                             on = 'student_id')\n",
    "    active_studs_merged = active_studs.merge(groups_concat.rename(columns = {'id': 'student_id'}),\n",
    "                                        on = 'student_id')\n",
    "    \n",
    "    # Конверсия\n",
    "    CR_A = checks_merged.query('grp == \"A\"').shape[0] / \\\n",
    "     active_studs_merged.query('grp == \"A\"').shape[0]\n",
    "    CR_A_perc_round = round(CR_A * 100, 1)\n",
    "    print('Конверсия в покупку в период проведения эксперимента для контрольной группы составила {}%' \\\n",
    "      .format(CR_A_perc_round))\n",
    "    \n",
    "    CR_B = checks_merged.query('grp == \"B\"').shape[0] / \\\n",
    "       active_studs_merged.query('grp == \"B\"').shape[0]\n",
    "    CR_B_perc_round = round(CR_B * 100, 1)\n",
    "    print('Конверсия в покупку в период проведения эксперимента для тестовой группы составила {}%' \\\n",
    "      .format(CR_B_perc_round))\n",
    "    \n",
    "    # ARPPU \n",
    "    ARPPU_A = round(checks_merged.query('grp == \"A\"').rev.sum() / \\\n",
    "                    checks_merged.query('grp == \"A\"').shape[0],\n",
    "                    1)\n",
    "    print('ARPPU в период проведения эксперимента для контрольной группы составил {} у.е.' \\\n",
    "      .format(ARPPU_A))\n",
    "    ARPPU_B = round(checks_merged.query('grp == \"B\"').rev.sum() / \\\n",
    "                    checks_merged.query('grp == \"B\"').shape[0],\n",
    "                    1)\n",
    "    print('ARPPU в период проведения эксперимента для тестовой группы составил {} у.е.' \\\n",
    "      .format(ARPPU_B))\n",
    "    \n",
    "    # ARPU\n",
    "    ARPU_A = round(CR_A * ARPPU_A,\n",
    "                   1)\n",
    "    print('ARPU в период проведения эксперимента для контрольной группы составил {} у.е.' \\\n",
    "      .format(ARPU_A))\n",
    "    ARPU_B = round(CR_B * ARPPU_B,\n",
    "                   1)\n",
    "    print('ARPU в период проведения эксперимента для тестовой группы составил {} у.е.' \\\n",
    "      .format(ARPU_B))"
   ]
  },
  {
   "cell_type": "code",
   "execution_count": 314,
   "metadata": {},
   "outputs": [
    {
     "name": "stdout",
     "output_type": "stream",
     "text": [
      "Конверсия в покупку в период проведения эксперимента для контрольной группы составила 7.0%\n",
      "Конверсия в покупку в период проведения эксперимента для тестовой группы составила 6.4%\n",
      "ARPPU в период проведения эксперимента для контрольной группы составил 860.7 у.е.\n",
      "ARPPU в период проведения эксперимента для тестовой группы составил 1107.0 у.е.\n",
      "ARPU в период проведения эксперимента для контрольной группы составил 60.0 у.е.\n",
      "ARPU в период проведения эксперимента для тестовой группы составил 70.6 у.е.\n"
     ]
    }
   ],
   "source": [
    "updating_info('/Users/vitaly/Documents/!KC_Фин_Проект/Проект_2_group_add.csv')"
   ]
  },
  {
   "cell_type": "markdown",
   "metadata": {},
   "source": [
    "## Функция визуализации метрик"
   ]
  },
  {
   "cell_type": "markdown",
   "metadata": {},
   "source": [
    "### Задача\n",
    "_Реализуйте функцию, которая будет строить графики по получаемым метрикам._"
   ]
  },
  {
   "cell_type": "markdown",
   "metadata": {},
   "source": [
    "### Реализация"
   ]
  },
  {
   "cell_type": "code",
   "execution_count": 309,
   "metadata": {},
   "outputs": [],
   "source": [
    "def visual_metrics():\n",
    "        # Датафрейм для визуализации\n",
    "    # параметры\n",
    "    df_par = {'metric': ['CR', \n",
    "                         'CR', \n",
    "                         'ARPPU', \n",
    "                         'ARPPU',\n",
    "                         'ARPU', \n",
    "                         'ARPU'],\n",
    "               'group': ['control', \n",
    "                         'test',\n",
    "                         'control', \n",
    "                         'test',\n",
    "                         'control', \n",
    "                         'test',],\n",
    "               'value': [CR_A_perc_round, \n",
    "                         CR_B_perc_round, \n",
    "                         ARPPU_A, \n",
    "                         ARPPU_B,\n",
    "                         ARPU_A, \n",
    "                         ARPU_B]\n",
    "             }\n",
    "\n",
    "    # создание\n",
    "    metrics_df = pd.DataFrame(data = df_par)\n",
    "    \n",
    "        # Визуализация\n",
    "    plt.figure(figsize = (17, 4))\n",
    "\n",
    "    # конверсия\n",
    "    plt.subplot(1, 3, 1)\n",
    "    plt.bar(data = metrics_df.iloc[0:2],\n",
    "            x = 'group',\n",
    "            height = 'value',\n",
    "            color = 'brown'\n",
    "           )\n",
    "    plt.title('Конверсия')\n",
    "    plt.ylabel('Значение(%)')\n",
    "\n",
    "    # ARPPU\n",
    "    plt.subplot(1, 3, 2)\n",
    "    plt.bar(data = metrics_df.iloc[2:4],\n",
    "            x = 'group',\n",
    "            height = 'value',\n",
    "            color = 'green'\n",
    "           )\n",
    "    plt.title('ARPPU')\n",
    "    plt.ylabel('Значение')\n",
    "\n",
    "    # ARPU\n",
    "    plt.subplot(1, 3, 3)\n",
    "    plt.bar(data = metrics_df.iloc[4:6],\n",
    "            x = 'group',\n",
    "            height = 'value',\n",
    "            color = 'green'\n",
    "           )\n",
    "    plt.title('ARPU')\n",
    "    plt.ylabel('Значение')"
   ]
  },
  {
   "cell_type": "code",
   "execution_count": 310,
   "metadata": {},
   "outputs": [
    {
     "data": {
      "image/png": "[encoded data removed]",
      "text/plain": [
       "<Figure size 1224x288 with 3 Axes>"
      ]
     },
     "metadata": {
      "needs_background": "light"
     },
     "output_type": "display_data"
    }
   ],
   "source": [
    "visual_metrics()"
   ]
  }
 ],
 "metadata": {
  "kernelspec": {
   "display_name": "Python 3",
   "language": "python",
   "name": "python3"
  },
  "language_info": {
   "codemirror_mode": {
    "name": "ipython",
    "version": 3
   },
   "file_extension": ".py",
   "mimetype": "text/x-python",
   "name": "python",
   "nbconvert_exporter": "python",
   "pygments_lexer": "ipython3",
   "version": "3.8.5"
  },
  "toc": {
   "base_numbering": 1,
   "nav_menu": {
    "height": "290px",
    "width": "512px"
   },
   "number_sections": true,
   "sideBar": true,
   "skip_h1_title": false,
   "title_cell": "Table of Contents",
   "title_sidebar": "Contents",
   "toc_cell": false,
   "toc_position": {},
   "toc_section_display": true,
   "toc_window_display": false
  }
 },
 "nbformat": 4,
 "nbformat_minor": 4
}
